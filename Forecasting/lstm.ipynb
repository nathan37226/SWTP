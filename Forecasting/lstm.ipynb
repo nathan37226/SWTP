{
 "cells": [
  {
   "cell_type": "code",
   "execution_count": 46,
   "metadata": {},
   "outputs": [],
   "source": [
    "import numpy as np\n",
    "import pandas as pd\n",
    "import matplotlib.pyplot as plt\n",
    "from sklearn.preprocessing import MinMaxScaler\n",
    "from sklearn.metrics import mean_squared_error\n",
    "from keras.models import Sequential\n",
    "from keras.layers import Dense, LSTM\n",
    "from copy import deepcopy\n",
    "\n",
    "# convert series to supervised learning\n",
    "def series_to_supervised(data, n_in = 1, n_out = 1, dropnan = True):\n",
    "\tn_vars = 1 if type(data) is list else data.shape[1]\n",
    "\tdf = pd.DataFrame(data)\n",
    "\tcols, names = list(), list()\n",
    "\n",
    "\t# input sequence (t-n, ... t-1)\n",
    "\tfor i in range(n_in, 0, -1):\n",
    "\t\tcols.append(df.shift(i))\n",
    "\t\tnames += [('var%d(t-%d)' % (j+1, i)) for j in range(n_vars)]\n",
    "\n",
    "\t# forecast sequence (t, t+1, ... t+n)\n",
    "\tfor i in range(0, n_out):\n",
    "\t\tcols.append(df.shift(-i))\n",
    "\t\tif i == 0:\n",
    "\t\t\tnames += [('var%d(t)' % (j+1)) for j in range(n_vars)]\n",
    "\t\telse:\n",
    "\t\t\tnames += [('var%d(t+%d)' % (j+1, i)) for j in range(n_vars)]\n",
    "\n",
    "\t# put it all together\n",
    "\tagg = pd.concat(cols, axis=1)\n",
    "\tagg.columns = names\n",
    "\n",
    "\t# drop rows with NaN values\n",
    "\tif dropnan:\n",
    "\t\tagg.dropna(inplace=True)\n",
    "\treturn agg\n"
   ]
  },
  {
   "cell_type": "code",
   "execution_count": 47,
   "metadata": {},
   "outputs": [],
   "source": [
    "# getting data\n",
    "features = ['SWTP Total Influent Flow', 'SWTP Plant 2 Influent Flow', 'Wilsons Gauge Height (ft)', 'James Gauge Height (ft)', \n",
    "            'SWTP Plant 1 Influent Flow', 'Fire 168 Hour Rainfall Aggregate', 'AT&T 168 Hour Rainfall Aggregate', \n",
    "            'Field 168 Hour Rainfall Aggregate', 'Springfield Plateau Aquifer Depth to Water Level (ft)', \n",
    "            'Ozark Aquifer Depth to Water Level (ft)', 'Month', 'Hour', 'Week', 'Year']\n",
    "\n",
    "dataset = pd.read_csv(\"Imputed Data.csv\", usecols=features)\n",
    "values = dataset.values\n",
    "\n",
    "# linear transformation of each feature from [min, max] to [0, 1]\n",
    "scaler = MinMaxScaler()\n",
    "scaled = scaler.fit_transform(values)\n",
    "\n",
    "# reframing data into a forecasting problem\n",
    "numBackward = 60\n",
    "numForward = 1\n",
    "reframed = series_to_supervised(scaled, numBackward, numForward)            #(x, 73) for 72 values in the future, x is a hyperparameter\n",
    "\n",
    "# dropping columns we do not need\n",
    "numCols = len(dataset.columns)\n",
    "undesiredCols = [x for x in range(numCols * numBackward + 1, numCols * (numBackward + numForward))]\n",
    "reframed.drop(reframed.columns[undesiredCols], axis = 1, inplace =True)     #everthing after var1(t) must be dropped"
   ]
  },
  {
   "cell_type": "code",
   "execution_count": 48,
   "metadata": {},
   "outputs": [
    {
     "name": "stdout",
     "output_type": "stream",
     "text": [
      "(35040, 60, 14) (35040,) (9132, 60, 14) (9132,)\n"
     ]
    }
   ],
   "source": [
    "# splitting into training and testing sets\n",
    "values = reframed.values\n",
    "n_train_hours = 4 * 365 * 24                                # first four years, roughly\n",
    "train = deepcopy(values[:n_train_hours:, :])\n",
    "test = deepcopy(values[n_train_hours:, :])\n",
    "\n",
    "# separating into X and Y datasets\n",
    "train_X, train_y = train[:, :-1], train[:, -1]              # [all rows, up to last col, i.e. var1(t)] and [all rows, just last col, i.e. var1(t)]\n",
    "test_X, test_y = test[:, :-1], test[:, -1]\n",
    "\n",
    "# changing input to be 3D for the model\n",
    "train_X = train_X.reshape((train_X.shape[0], numBackward, len(features)))   # rows, time lags, features\n",
    "test_X_copy = deepcopy(test_X)\n",
    "test_X = test_X.reshape((test_X.shape[0], numBackward, len(features)))\n",
    "print(train_X.shape, train_y.shape, test_X.shape, test_y.shape)"
   ]
  },
  {
   "cell_type": "code",
   "execution_count": 39,
   "metadata": {},
   "outputs": [
    {
     "name": "stdout",
     "output_type": "stream",
     "text": [
      "Epoch 1/12\n",
      "548/548 - 12s - loss: 0.0415 - val_loss: 0.0443 - 12s/epoch - 22ms/step\n",
      "Epoch 2/12\n",
      "548/548 - 9s - loss: 0.0229 - val_loss: 0.0318 - 9s/epoch - 17ms/step\n",
      "Epoch 3/12\n",
      "548/548 - 9s - loss: 0.0191 - val_loss: 0.0295 - 9s/epoch - 17ms/step\n",
      "Epoch 4/12\n",
      "548/548 - 9s - loss: 0.0165 - val_loss: 0.0259 - 9s/epoch - 17ms/step\n",
      "Epoch 5/12\n",
      "548/548 - 17s - loss: 0.0152 - val_loss: 0.0252 - 17s/epoch - 30ms/step\n",
      "Epoch 6/12\n",
      "548/548 - 14s - loss: 0.0141 - val_loss: 0.0237 - 14s/epoch - 26ms/step\n",
      "Epoch 7/12\n",
      "548/548 - 10s - loss: 0.0132 - val_loss: 0.0253 - 10s/epoch - 17ms/step\n",
      "Epoch 8/12\n",
      "548/548 - 9s - loss: 0.0126 - val_loss: 0.0272 - 9s/epoch - 17ms/step\n",
      "Epoch 9/12\n",
      "548/548 - 10s - loss: 0.0133 - val_loss: 0.0288 - 10s/epoch - 18ms/step\n",
      "Epoch 10/12\n",
      "548/548 - 9s - loss: 0.0120 - val_loss: 0.0291 - 9s/epoch - 17ms/step\n",
      "Epoch 11/12\n",
      "548/548 - 9s - loss: 0.0120 - val_loss: 0.0297 - 9s/epoch - 17ms/step\n",
      "Epoch 12/12\n",
      "548/548 - 9s - loss: 0.0119 - val_loss: 0.0281 - 9s/epoch - 17ms/step\n"
     ]
    }
   ],
   "source": [
    "# creating model\n",
    "model = Sequential()\n",
    "model.add(LSTM(50, input_shape=(train_X.shape[1], train_X.shape[2])))\n",
    "model.add(Dense(1))\n",
    "model.compile(loss ='mae', optimizer ='adam')\n",
    "\n",
    "# path = \"C:\\\\Users\\\\natha\\\\Desktop\\\\Undergrad\\\\Spring2022\\\\MTH 596 PIC Math\\\\Project - Group 2\\\\Project\\\\Forecasting\\\\keras_tuner_attempt1\\\\model\"\n",
    "# model = keras.models.load_model(path)   # must pay attention to numBackward and numForward used to train the model\n",
    "\n",
    "# fitting model to data\n",
    "history = model.fit(train_X, train_y, epochs=12, batch_size=64, validation_data=(test_X,test_y), verbose=2, shuffle=False)"
   ]
  },
  {
   "cell_type": "code",
   "execution_count": 40,
   "metadata": {},
   "outputs": [
    {
     "data": {
      "image/png": "[encoded data removed]",
      "text/plain": [
       "<Figure size 432x288 with 1 Axes>"
      ]
     },
     "metadata": {
      "needs_background": "light"
     },
     "output_type": "display_data"
    }
   ],
   "source": [
    "# plot history -- the \"%matplotlib qt\" command makes the graph pop out into a new window, inline shows below the cell\n",
    "%matplotlib inline\n",
    "# %matplotlib qt\n",
    "plt.plot(history.history['loss'], label= 'train')\n",
    "plt.plot(history.history['val_loss'], label='test')\n",
    "plt.xlabel(\"Epoch\")\n",
    "plt.ylabel(\"Value Loss\")\n",
    "plt.legend()\n",
    "plt.show()\n",
    "# print(history.history.keys())"
   ]
  },
  {
   "cell_type": "code",
   "execution_count": 45,
   "metadata": {},
   "outputs": [
    {
     "name": "stdout",
     "output_type": "stream",
     "text": [
      "MSE: 18.296287779498584\n",
      "RMSE: 4.277416016650541\n"
     ]
    }
   ],
   "source": [
    "def normalize(arr, maximum, minimum):\n",
    "    return (arr - minimum) / (maximum - minimum)\n",
    "\n",
    "def invNormalize(arr, minimum, maximum):\n",
    "    return (maximum - minimum) * arr + minimum\n",
    "\n",
    "# getting dates and original influent flow data\n",
    "df = pd.read_csv(\"Imputed Data.csv\", usecols=[\"DateTime\", \"SWTP Total Influent Flow\"])\n",
    "arr = np.array(df[\"SWTP Total Influent Flow\"])\n",
    "maximum = np.max(arr)\n",
    "minimum = np.min(arr)\n",
    "\n",
    "# predicting\n",
    "predictions = invNormalize(model.predict(test_X), maximum, minimum)\n",
    "trueValues = invNormalize(test_y, maximum, minimum)\n",
    "print(\"MSE:\", mean_squared_error(predictions, trueValues))\n",
    "print(\"RMSE:\", np.sqrt(mean_squared_error(predictions, trueValues)))"
   ]
  },
  {
   "cell_type": "code",
   "execution_count": 42,
   "metadata": {},
   "outputs": [
    {
     "ename": "ValueError",
     "evalue": "operands could not be broadcast together with shapes (9173,8) (14,) (9173,8) ",
     "output_type": "error",
     "traceback": [
      "\u001b[1;31m---------------------------------------------------------------------------\u001b[0m",
      "\u001b[1;31mValueError\u001b[0m                                Traceback (most recent call last)",
      "\u001b[1;32mc:\\Users\\natha\\Desktop\\Undergrad\\Spring2022\\MTH 596 PIC Math\\Project - Group 2\\Project\\Forecasting\\lstm.ipynb Cell 7'\u001b[0m in \u001b[0;36m<cell line: 7>\u001b[1;34m()\u001b[0m\n\u001b[0;32m      <a href='vscode-notebook-cell:/c%3A/Users/natha/Desktop/Undergrad/Spring2022/MTH%20596%20PIC%20Math/Project%20-%20Group%202/Project/Forecasting/lstm.ipynb#ch0000006?line=4'>5</a>\u001b[0m \u001b[39m# invert scaling for forecast\u001b[39;00m\n\u001b[0;32m      <a href='vscode-notebook-cell:/c%3A/Users/natha/Desktop/Undergrad/Spring2022/MTH%20596%20PIC%20Math/Project%20-%20Group%202/Project/Forecasting/lstm.ipynb#ch0000006?line=5'>6</a>\u001b[0m inv_yhat \u001b[39m=\u001b[39m np\u001b[39m.\u001b[39mconcatenate((yhat, test_X_transformed[:, \u001b[39m-\u001b[39m\u001b[39m7\u001b[39m:]), axis\u001b[39m=\u001b[39m\u001b[39m1\u001b[39m)\n\u001b[1;32m----> <a href='vscode-notebook-cell:/c%3A/Users/natha/Desktop/Undergrad/Spring2022/MTH%20596%20PIC%20Math/Project%20-%20Group%202/Project/Forecasting/lstm.ipynb#ch0000006?line=6'>7</a>\u001b[0m inv_yhat \u001b[39m=\u001b[39m scaler\u001b[39m.\u001b[39;49minverse_transform(inv_yhat)\n\u001b[0;32m      <a href='vscode-notebook-cell:/c%3A/Users/natha/Desktop/Undergrad/Spring2022/MTH%20596%20PIC%20Math/Project%20-%20Group%202/Project/Forecasting/lstm.ipynb#ch0000006?line=7'>8</a>\u001b[0m inv_yhat \u001b[39m=\u001b[39m inv_yhat[:,\u001b[39m0\u001b[39m]\n\u001b[0;32m      <a href='vscode-notebook-cell:/c%3A/Users/natha/Desktop/Undergrad/Spring2022/MTH%20596%20PIC%20Math/Project%20-%20Group%202/Project/Forecasting/lstm.ipynb#ch0000006?line=8'>9</a>\u001b[0m \u001b[39m# invert scaling for actual\u001b[39;00m\n",
      "File \u001b[1;32m~\\anaconda3\\envs\\ML\\lib\\site-packages\\sklearn\\preprocessing\\_data.py:529\u001b[0m, in \u001b[0;36mMinMaxScaler.inverse_transform\u001b[1;34m(self, X)\u001b[0m\n\u001b[0;32m    <a href='file:///c%3A/Users/natha/anaconda3/envs/ML/lib/site-packages/sklearn/preprocessing/_data.py?line=522'>523</a>\u001b[0m check_is_fitted(\u001b[39mself\u001b[39m)\n\u001b[0;32m    <a href='file:///c%3A/Users/natha/anaconda3/envs/ML/lib/site-packages/sklearn/preprocessing/_data.py?line=524'>525</a>\u001b[0m X \u001b[39m=\u001b[39m check_array(\n\u001b[0;32m    <a href='file:///c%3A/Users/natha/anaconda3/envs/ML/lib/site-packages/sklearn/preprocessing/_data.py?line=525'>526</a>\u001b[0m     X, copy\u001b[39m=\u001b[39m\u001b[39mself\u001b[39m\u001b[39m.\u001b[39mcopy, dtype\u001b[39m=\u001b[39mFLOAT_DTYPES, force_all_finite\u001b[39m=\u001b[39m\u001b[39m\"\u001b[39m\u001b[39mallow-nan\u001b[39m\u001b[39m\"\u001b[39m\n\u001b[0;32m    <a href='file:///c%3A/Users/natha/anaconda3/envs/ML/lib/site-packages/sklearn/preprocessing/_data.py?line=526'>527</a>\u001b[0m )\n\u001b[1;32m--> <a href='file:///c%3A/Users/natha/anaconda3/envs/ML/lib/site-packages/sklearn/preprocessing/_data.py?line=528'>529</a>\u001b[0m X \u001b[39m-\u001b[39m\u001b[39m=\u001b[39m \u001b[39mself\u001b[39m\u001b[39m.\u001b[39mmin_\n\u001b[0;32m    <a href='file:///c%3A/Users/natha/anaconda3/envs/ML/lib/site-packages/sklearn/preprocessing/_data.py?line=529'>530</a>\u001b[0m X \u001b[39m/\u001b[39m\u001b[39m=\u001b[39m \u001b[39mself\u001b[39m\u001b[39m.\u001b[39mscale_\n\u001b[0;32m    <a href='file:///c%3A/Users/natha/anaconda3/envs/ML/lib/site-packages/sklearn/preprocessing/_data.py?line=530'>531</a>\u001b[0m \u001b[39mreturn\u001b[39;00m X\n",
      "\u001b[1;31mValueError\u001b[0m: operands could not be broadcast together with shapes (9173,8) (14,) (9173,8) "
     ]
    }
   ],
   "source": [
    "# make a prediction\n",
    "yhat = model.predict(test_X)\n",
    "# test_X_transformed = test_X.reshape((test_X.shape[0], n_train_hours * len(features)))\n",
    "test_X_transformed = test_X_copy\n",
    "# invert scaling for forecast\n",
    "inv_yhat = np.concatenate((yhat, test_X_transformed[:, -7:]), axis=1)\n",
    "inv_yhat = scaler.inverse_transform(inv_yhat)\n",
    "inv_yhat = inv_yhat[:,0]\n",
    "# invert scaling for actual\n",
    "test_y = test_y.reshape((len(test_y), 1))\n",
    "inv_y = np.concatenate((test_y, test_X_transformed[:, -7:]), axis=1)\n",
    "inv_y = scaler.inverse_transform(inv_y)\n",
    "inv_y = inv_y[:,0]\n",
    "# calculate RMSE\n",
    "rmse = np.sqrt(mean_squared_error(inv_y, inv_yhat))\n",
    "print('Test RMSE: %.3f' % rmse)"
   ]
  }
 ],
 "metadata": {
  "interpreter": {
   "hash": "18d1565e3dd2a1a1180dd629712b39ff168054eb513fda549cd851c01d6423bb"
  },
  "kernelspec": {
   "display_name": "Python 3.8.13 ('ML')",
   "language": "python",
   "name": "python3"
  },
  "language_info": {
   "codemirror_mode": {
    "name": "ipython",
    "version": 3
   },
   "file_extension": ".py",
   "mimetype": "text/x-python",
   "name": "python",
   "nbconvert_exporter": "python",
   "pygments_lexer": "ipython3",
   "version": "3.8.13"
  },
  "orig_nbformat": 4
 },
 "nbformat": 4,
 "nbformat_minor": 2
}
