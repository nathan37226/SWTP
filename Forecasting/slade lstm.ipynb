{
  "cells": [
    {
      "cell_type": "code",
      "execution_count": 2,
      "metadata": {
        "id": "fDBOMug75k8z"
      },
      "outputs": [],
      "source": [
        "import time \n",
        "from math import sqrt\n",
        "# from numpy import concatenate, max, min\n",
        "from numpy import concatenate\n",
        "from matplotlib import pyplot\n",
        "from pandas import read_csv\n",
        "from pandas import DataFrame\n",
        "from pandas import concat\n",
        "from sklearn.preprocessing import MinMaxScaler\n",
        "from sklearn.preprocessing import LabelEncoder\n",
        "from sklearn.metrics import mean_squared_error\n",
        "from keras.models import Sequential\n",
        "from keras.layers import Dense\n",
        "from keras.layers import LSTM"
      ]
    },
    {
      "cell_type": "code",
      "execution_count": 3,
      "metadata": {
        "id": "PKfXp1L_8hga"
      },
      "outputs": [],
      "source": [
        "# convert series to supervised learning\n",
        "def series_to_supervised(data, n_in=1, n_out=1, dropnan=True):\n",
        "\tn_vars = 1 if type(data) is list else data.shape[1]\n",
        "\tdf = DataFrame(data)\n",
        "\tcols, names = list(), list()\n",
        "\t# input sequence (t-n, ... t-1)\n",
        "\tfor i in range(n_in, 0, -1):\n",
        "\t\tcols.append(df.shift(i))\n",
        "\t\tnames += [('var%d(t-%d)' % (j+1, i)) for j in range(n_vars)]\n",
        "\t# forecast sequence (t, t+1, ... t+n)\n",
        "\tfor i in range(0, n_out):\n",
        "\t\tcols.append(df.shift(-i))\n",
        "\t\tif i == 0:\n",
        "\t\t\tnames += [('var%d(t)' % (j+1)) for j in range(n_vars)]\n",
        "\t\telse:\n",
        "\t\t\tnames += [('var%d(t+%d)' % (j+1, i)) for j in range(n_vars)]\n",
        "\t# put it all together\n",
        "\tagg = concat(cols, axis=1)\n",
        "\tagg.columns = names\n",
        "\t# drop rows with NaN values\n",
        "\tif dropnan:\n",
        "\t\tagg.dropna(inplace=True)\n",
        "\treturn agg\n"
      ]
    },
    {
      "cell_type": "code",
      "execution_count": 4,
      "metadata": {
        "colab": {
          "base_uri": "https://localhost:8080/"
        },
        "id": "iw8TcFbb8hwg",
        "outputId": "e87dfcfe-7098-4a33-861e-e376bbf1750d"
      },
      "outputs": [
        {
          "name": "stdout",
          "output_type": "stream",
          "text": [
            "   var1(t-1)  var2(t-1)  var3(t-1)  var4(t-1)  var5(t-1)   var1(t)  var2(t)  \\\n",
            "1   0.065207        0.0        0.0        0.0        0.0  0.056212      0.0   \n",
            "2   0.056212        0.0        0.0        0.0        0.0  0.050118      0.0   \n",
            "3   0.050118        0.0        0.0        0.0        0.0  0.044468      0.0   \n",
            "4   0.044468        0.0        0.0        0.0        0.0  0.037090      0.0   \n",
            "5   0.037090        0.0        0.0        0.0        0.0  0.033213      0.0   \n",
            "\n",
            "   var3(t)  var4(t)  var5(t)  \n",
            "1      0.0      0.0      0.0  \n",
            "2      0.0      0.0      0.0  \n",
            "3      0.0      0.0      0.0  \n",
            "4      0.0      0.0      0.0  \n",
            "5      0.0      0.0      0.0  \n",
            "   var1(t-1)  var2(t-1)  var3(t-1)  var4(t-1)  var5(t-1)   var1(t)\n",
            "1   0.065207        0.0        0.0        0.0        0.0  0.056212\n",
            "2   0.056212        0.0        0.0        0.0        0.0  0.050118\n",
            "3   0.050118        0.0        0.0        0.0        0.0  0.044468\n",
            "4   0.044468        0.0        0.0        0.0        0.0  0.037090\n",
            "5   0.037090        0.0        0.0        0.0        0.0  0.033213\n"
          ]
        }
      ],
      "source": [
        "#data in the right form\n",
        "dataset = read_csv('Top5Data.csv', header=0, index_col=0)\n",
        "values = dataset.values\n",
        "\n",
        "#normalizing features, reframing data\n",
        "scaler = MinMaxScaler(feature_range=(0,1))\n",
        "scaled = scaler.fit_transform(values)\n",
        "# print(reframed.head())\n",
        "reframed = series_to_supervised(scaled, 1, 1)  #(x, 73) for 72 values in the future, x is a hyperparameter\n",
        "#dropping colums we do dont need\n",
        "print(reframed.head())\n",
        "reframed.drop(reframed.columns[[6,7,8,9]], axis = 1, inplace =True) #everthing after var1(t) must be dropped\n",
        "print(reframed.head())\n",
        "# arr = reframed[\"var1(t)\"]\n",
        "# print(arr)"
      ]
    },
    {
      "cell_type": "code",
      "execution_count": 30,
      "metadata": {
        "colab": {
          "base_uri": "https://localhost:8080/"
        },
        "id": "GPNny3qc2wHe",
        "outputId": "fbe85e63-dbe2-4af6-e5cd-8cb55452d93c"
      },
      "outputs": [
        {
          "data": {
            "text/plain": [
              "(44260, 6)"
            ]
          },
          "execution_count": 30,
          "metadata": {},
          "output_type": "execute_result"
        }
      ],
      "source": [
        "reframed.shape"
      ]
    },
    {
      "cell_type": "code",
      "execution_count": 31,
      "metadata": {
        "colab": {
          "base_uri": "https://localhost:8080/"
        },
        "id": "43tJa5RH8h7b",
        "outputId": "c5acaf24-1563-4ddb-cfdc-f86d376b44ea"
      },
      "outputs": [
        {
          "name": "stdout",
          "output_type": "stream",
          "text": [
            "[[0.06520715 0.         0.         0.         0.        ]\n",
            " [0.05621151 0.         0.         0.         0.        ]\n",
            " [0.05011839 0.         0.         0.         0.        ]\n",
            " ...\n",
            " [0.21724678 0.01010101 0.01182654 0.00833333 0.01084337]\n",
            " [0.19890099 0.01010101 0.01182654 0.00833333 0.01084337]\n",
            " [0.17242368 0.01010101 0.01182654 0.00833333 0.01084337]]\n",
            "(35408, 1, 5) (35408,) (8852, 1, 5) (8852,)\n",
            "Epoch 1/12\n",
            "554/554 - 3s - loss: 0.0504 - val_loss: 0.0471 - 3s/epoch - 5ms/step\n",
            "Epoch 2/12\n",
            "554/554 - 1s - loss: 0.0242 - val_loss: 0.0213 - 1s/epoch - 2ms/step\n",
            "Epoch 3/12\n",
            "554/554 - 1s - loss: 0.0140 - val_loss: 0.0183 - 1s/epoch - 2ms/step\n",
            "Epoch 4/12\n",
            "554/554 - 1s - loss: 0.0118 - val_loss: 0.0181 - 1s/epoch - 2ms/step\n",
            "Epoch 5/12\n",
            "554/554 - 1s - loss: 0.0114 - val_loss: 0.0179 - 1s/epoch - 2ms/step\n",
            "Epoch 6/12\n",
            "554/554 - 1s - loss: 0.0114 - val_loss: 0.0177 - 1s/epoch - 2ms/step\n",
            "Epoch 7/12\n",
            "554/554 - 1s - loss: 0.0114 - val_loss: 0.0176 - 1s/epoch - 2ms/step\n",
            "Epoch 8/12\n",
            "554/554 - 1s - loss: 0.0115 - val_loss: 0.0181 - 1s/epoch - 2ms/step\n",
            "Epoch 9/12\n",
            "554/554 - 1s - loss: 0.0111 - val_loss: 0.0181 - 1s/epoch - 2ms/step\n",
            "Epoch 10/12\n",
            "554/554 - 1s - loss: 0.0113 - val_loss: 0.0189 - 1s/epoch - 2ms/step\n",
            "Epoch 11/12\n",
            "554/554 - 1s - loss: 0.0109 - val_loss: 0.0182 - 1s/epoch - 2ms/step\n",
            "Epoch 12/12\n",
            "554/554 - 1s - loss: 0.0114 - val_loss: 0.0179 - 1s/epoch - 2ms/step\n"
          ]
        }
      ],
      "source": [
        "#splitting into train/testing\n",
        "values = reframed.values\n",
        "n_train_hours = int(44260*.8)\n",
        "train = values[:n_train_hours:, :]\n",
        "test = values[n_train_hours:, :]\n",
        "#input/output splitting\n",
        "train_X, train_y = train[:, :-1], train[:, -1]\n",
        "test_X, test_y = test[:, :-1], test[:, -1]\n",
        "print(train_X)\n",
        "\n",
        "#3D input\n",
        "train_X = train_X.reshape((train_X.shape[0], 1, train_X.shape[1]))\n",
        "test_X = test_X.reshape((test_X.shape[0], 1, test_X.shape[1]))\n",
        "print(train_X.shape, train_y.shape, test_X.shape, test_y.shape)\n",
        "\n",
        "#desinging network\n",
        "model = Sequential()\n",
        "model.add(LSTM(50, input_shape=(train_X.shape[1], train_X.shape[2])))\n",
        "model.add(Dense(1))\n",
        "model.compile(loss ='mae', optimizer ='adam')\n",
        "\n",
        "#fit network\n",
        "history = model.fit(train_X, train_y, epochs=12, batch_size=64, validation_data=(test_X,test_y), verbose=2, shuffle=False)"
      ]
    },
    {
      "cell_type": "code",
      "execution_count": 32,
      "metadata": {
        "colab": {
          "base_uri": "https://localhost:8080/",
          "height": 282
        },
        "id": "jqYhWMn08w5z",
        "outputId": "2e4af218-cde4-4124-96dd-daf9fcafe101"
      },
      "outputs": [
        {
          "data": {
            "image/png": "[encoded data removed]",
            "text/plain": [
              "<Figure size 432x288 with 1 Axes>"
            ]
          },
          "metadata": {
            "needs_background": "light"
          },
          "output_type": "display_data"
        },
        {
          "name": "stdout",
          "output_type": "stream",
          "text": [
            "dict_keys(['loss', 'val_loss'])\n"
          ]
        }
      ],
      "source": [
        "#plot history\n",
        "pyplot.plot(history.history['loss'], label= 'train')\n",
        "pyplot.plot(history.history['val_loss'], label='test')\n",
        "pyplot.legend()\n",
        "pyplot.show()\n",
        "print(history.history.keys())"
      ]
    },
    {
      "cell_type": "code",
      "execution_count": 33,
      "metadata": {},
      "outputs": [],
      "source": [
        "#make a prediction\n",
        "yhat = model.predict(test_X)\n",
        "test_X = test_X.reshape((test_X.shape[0], test_X.shape[2]))"
      ]
    },
    {
      "cell_type": "code",
      "execution_count": 43,
      "metadata": {
        "colab": {
          "base_uri": "https://localhost:8080/",
          "height": 630
        },
        "id": "LXd84a-88zzM",
        "outputId": "1ab430d2-97cb-468a-fb80-8d2d92050e85"
      },
      "outputs": [
        {
          "name": "stdout",
          "output_type": "stream",
          "text": [
            "Test RNMSE: 0.001\n"
          ]
        }
      ],
      "source": [
        "def normalize(arr, maximum, minimum):\n",
        "    return (arr - minimum) / (maximum - minimum)\n",
        "\n",
        "#invert scale for forecast\n",
        "inv_yhat = concatenate((yhat, test_X[:, 1:]), axis=1)\n",
        "inv_yhat = scaler.inverse_transform(inv_yhat)\n",
        "inv_yhat = inv_yhat[:,0]\n",
        "\n",
        "#invert scale for actual\n",
        "test_y = test_y.reshape((len(test_y), 1))\n",
        "inv_y = concatenate((test_y, test_X[:, 1:]), axis=1)\n",
        "inv_y = scaler.inverse_transform(inv_y)\n",
        "inv_y = inv_y[:,0]\n",
        "\n",
        "#calculateRMSE\n",
        "maximum = max(inv_y)\n",
        "minimum = min(inv_y)\n",
        "# rnmse = sqrt(mean_squared_error(normalize(inv_y, maximum, minimum), normalize(inv_yhat, maximum, minimum)))\n",
        "rnmse = mean_squared_error(normalize(inv_y, maximum, minimum), normalize(inv_yhat, maximum, minimum))\n",
        "# rnmse = sqrt(mean_squared_error(inv_y, inv_yhat))\n",
        "print('Test RNMSE: %.3f' % rnmse)"
      ]
    },
    {
      "cell_type": "code",
      "execution_count": 35,
      "metadata": {
        "colab": {
          "base_uri": "https://localhost:8080/"
        },
        "id": "I_R0_2Tt8z4a",
        "outputId": "4516a018-d3cb-4fbe-8573-6fe502420379"
      },
      "outputs": [
        {
          "name": "stdout",
          "output_type": "stream",
          "text": [
            "The script took 0.0 second !\n"
          ]
        }
      ],
      "source": [
        "#calculating time\n",
        "startTime = time.time()\n",
        "print ('The script took {0} second !'.format(time.time() - startTime))"
      ]
    }
  ],
  "metadata": {
    "colab": {
      "name": "LSTM(attempt[1]).ipynb",
      "provenance": []
    },
    "kernelspec": {
      "display_name": "Python 3",
      "name": "python3"
    },
    "language_info": {
      "codemirror_mode": {
        "name": "ipython",
        "version": 3
      },
      "file_extension": ".py",
      "mimetype": "text/x-python",
      "name": "python",
      "nbconvert_exporter": "python",
      "pygments_lexer": "ipython3",
      "version": "3.8.13"
    }
  },
  "nbformat": 4,
  "nbformat_minor": 0
}
