{
 "cells": [
  {
   "cell_type": "code",
   "execution_count": 1,
   "metadata": {},
   "outputs": [],
   "source": [
    "import pandas as pd\n",
    "from sklearn.preprocessing import MinMaxScaler\n",
    "from copy import deepcopy\n",
    "\n",
    "# convert series to supervised learning\n",
    "def series_to_supervised(data, n_in = 1, n_out = 1, dropnan = True):\n",
    "\tn_vars = 1 if type(data) is list else data.shape[1]\n",
    "\tdf = pd.DataFrame(data)\n",
    "\tcols, names = list(), list()\n",
    "\n",
    "\t# input sequence (t-n, ... t-1)\n",
    "\tfor i in range(n_in, 0, -1):\n",
    "\t\tcols.append(df.shift(i))\n",
    "\t\tnames += [('var%d(t-%d)' % (j+1, i)) for j in range(n_vars)]\n",
    "\n",
    "\t# forecast sequence (t, t+1, ... t+n)\n",
    "\tfor i in range(0, n_out):\n",
    "\t\tcols.append(df.shift(-i))\n",
    "\t\tif i == 0:\n",
    "\t\t\tnames += [('var%d(t)' % (j+1)) for j in range(n_vars)]\n",
    "\t\telse:\n",
    "\t\t\tnames += [('var%d(t+%d)' % (j+1, i)) for j in range(n_vars)]\n",
    "\n",
    "\t# put it all together\n",
    "\tagg = pd.concat(cols, axis=1)\n",
    "\tagg.columns = names\n",
    "\n",
    "\t# drop rows with NaN values\n",
    "\tif dropnan:\n",
    "\t\tagg.dropna(inplace=True)\n",
    "\treturn agg\n",
    "\n",
    "# getting data\n",
    "features = ['SWTP Total Influent Flow', 'SWTP Plant 2 Influent Flow', 'Wilsons Gauge Height (ft)', 'James Gauge Height (ft)', \n",
    "            'SWTP Plant 1 Influent Flow', 'Fire 168 Hour Rainfall Aggregate', 'AT&T 168 Hour Rainfall Aggregate', \n",
    "            'Field 168 Hour Rainfall Aggregate', 'Springfield Plateau Aquifer Depth to Water Level (ft)', \n",
    "            'Ozark Aquifer Depth to Water Level (ft)', 'Month', 'Hour', 'Week', 'Year']\n",
    "\n",
    "dataset = pd.read_csv(\"Imputed Data.csv\", usecols=features)\n",
    "values = dataset.values\n",
    "\n",
    "# linear transformation of each feature from [min, max] to [0, 1]\n",
    "scaler = MinMaxScaler()\n",
    "scaled = scaler.fit_transform(values)\n",
    "\n",
    "# reframing data into a forecasting problem\n",
    "numBackward = 25\n",
    "numForward = 73\n",
    "reframed = series_to_supervised(scaled, numBackward, numForward)            #(x, 73) for 72 values in the future, x is a hyperparameter\n",
    "\n",
    "# dropping columns we do not need\n",
    "numCols = len(dataset.columns)\n",
    "undesiredCols = [x for x in range(numCols * numBackward + 1, numCols * (numBackward + numForward))]\n",
    "reframed.drop(reframed.columns[undesiredCols], axis = 1, inplace =True)     #everthing after var1(t) must be dropped\n",
    "\n",
    "# splitting into training and testing sets\n",
    "values = reframed.values\n",
    "n_train_hours = int(44260 * 0.8)                            # taking 80% of the data to train on\n",
    "train = deepcopy(values[:n_train_hours:, :])\n",
    "test = deepcopy(values[n_train_hours:, :])\n",
    "\n",
    "# separating into X and Y datasets\n",
    "train_X, train_y = train[:, :-1], train[:, -1]              # [all rows, up to last col, i.e. var1(t)] and [all rows, just last col, i.e. var1(t)]\n",
    "test_X, test_y = test[:, :-1], test[:, -1]\n",
    "\n",
    "# changing input to be 3D for the model\n",
    "train_X = train_X.reshape((train_X.shape[0], 1, train_X.shape[1]))\n",
    "test_X = test_X.reshape((test_X.shape[0], 1, test_X.shape[1]))"
   ]
  },
  {
   "cell_type": "markdown",
   "metadata": {},
   "source": [
    "#### Main Hyperparameters to tune: numBackward, n_epochs, LSTM units, Dense units"
   ]
  },
  {
   "cell_type": "code",
   "execution_count": 2,
   "metadata": {},
   "outputs": [
    {
     "name": "stdout",
     "output_type": "stream",
     "text": [
      "Trial 5 Complete [00h 01m 01s]\n",
      "mse: 0.0003998268221039325\n",
      "\n",
      "Best mse So Far: 0.0003998268221039325\n",
      "Total elapsed time: 00h 04m 57s\n",
      "INFO:tensorflow:Oracle triggered exit\n"
     ]
    }
   ],
   "source": [
    "from tensorflow import keras\n",
    "from keras.models import Sequential\n",
    "from keras.layers import Dense, LSTM\n",
    "from kerastuner.tuners import BayesianOptimization\n",
    "import os\n",
    "\n",
    "def build_model(hp):\n",
    "    model = Sequential()\n",
    "    model.add(LSTM(units=hp.Int('units',min_value=1, max_value=60, step=2), \n",
    "               activation='tanh', input_shape=(train_X.shape[1], train_X.shape[2])))\n",
    "    model.add(Dense(units=hp.Int('units',min_value=1, max_value=60, step=2)))\n",
    "    model.add(Dense(1))\n",
    "    model.compile(loss='mse', metrics=['mse'], optimizer=keras.optimizers.Adam(\n",
    "        hp.Choice('learning_rate', values=[1e-2, 1e-3, 1e-4, 1e-5])))\n",
    "    return model\n",
    "\n",
    "n_epochs = 20\n",
    "bayesian_opt_tuner = BayesianOptimization(\n",
    "    build_model,\n",
    "    objective='mse',\n",
    "    max_trials=5,\n",
    "    executions_per_trial=1,\n",
    "    directory=os.path.normpath('C:/Users/natha/Desktop/Undergrad/Spring2022/MTH 596 PIC Math/Project - Group 2/Project/Forecasting'),\n",
    "    project_name='keras_tuner_attempt1',\n",
    "    overwrite=True)\n",
    "\n",
    "bayesian_opt_tuner.search(train_X, train_y, epochs=n_epochs,\n",
    "     #validation_data=(X_test, y_test)\n",
    "     validation_split=0.2,verbose=1)\n",
    "\n",
    "\n",
    "bayes_opt_model_best_model = bayesian_opt_tuner.get_best_models(num_models=1)\n",
    "model = bayes_opt_model_best_model[0]\n",
    "\n",
    "path = \"C:\\\\Users\\\\natha\\\\Desktop\\\\Undergrad\\\\Spring2022\\\\MTH 596 PIC Math\\\\Project - Group 2\\\\Project\\\\Forecasting\\\\keras_tuner_attempt1\\\\model\"\n",
    "model.save(path)"
   ]
  },
  {
   "cell_type": "code",
   "execution_count": 10,
   "metadata": {},
   "outputs": [],
   "source": [
    "modelAttempt = keras.models.load_model(path)"
   ]
  }
 ],
 "metadata": {
  "interpreter": {
   "hash": "18d1565e3dd2a1a1180dd629712b39ff168054eb513fda549cd851c01d6423bb"
  },
  "kernelspec": {
   "display_name": "Python 3.8.13 ('ML')",
   "language": "python",
   "name": "python3"
  },
  "language_info": {
   "codemirror_mode": {
    "name": "ipython",
    "version": 3
   },
   "file_extension": ".py",
   "mimetype": "text/x-python",
   "name": "python",
   "nbconvert_exporter": "python",
   "pygments_lexer": "ipython3",
   "version": "3.8.13"
  },
  "orig_nbformat": 4
 },
 "nbformat": 4,
 "nbformat_minor": 2
}
