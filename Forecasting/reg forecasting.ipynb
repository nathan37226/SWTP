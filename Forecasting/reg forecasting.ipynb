{
 "cells": [
  {
   "cell_type": "code",
   "execution_count": 46,
   "metadata": {},
   "outputs": [],
   "source": [
    "import numpy as np\n",
    "import pandas as pd\n",
    "from sklearn.preprocessing import MinMaxScaler\n",
    "\n",
    "def series_to_supervised(data, n_in=1, n_out=1, dropnan=True):\n",
    "\tn_vars = 1 if type(data) is list else data.shape[1]\n",
    "\tdf = pd.DataFrame(data)\n",
    "\tcols, names = list(), list()\n",
    "\t# input sequence (t-n, ... t-1)\n",
    "\tfor i in range(n_in, 0, -1):\n",
    "\t\tcols.append(df.shift(i))\n",
    "\t\tnames += [('var%d(t-%d)' % (j+1, i)) for j in range(n_vars)]\n",
    "\t# forecast sequence (t, t+1, ... t+n)\n",
    "\tfor i in range(0, n_out):\n",
    "\t\tcols.append(df.shift(-i))\n",
    "\t\tif i == 0:\n",
    "\t\t\tnames += [('var%d(t)' % (j+1)) for j in range(n_vars)]\n",
    "\t\telse:\n",
    "\t\t\tnames += [('var%d(t+%d)' % (j+1, i)) for j in range(n_vars)]\n",
    "\t# put it all together\n",
    "\tagg = pd.concat(cols, axis=1)\n",
    "\tagg.columns = names\n",
    "\t# drop rows with NaN values\n",
    "\tif dropnan:\n",
    "\t\tagg.dropna(inplace=True)\n",
    "\treturn agg\n",
    "\n",
    "# features = ['SWTP Total Influent Flow', 'SWTP Plant 1 Influent Flow', 'SWTP Plant 2 Influent Flow',\n",
    "#             'Wilsons Gauge Height (ft)', 'James Gauge Height (ft)', \n",
    "#             'Fire 120 Hour Rainfall Aggregate', 'Bingham 120 Hour Rainfall Aggregate', 'Field 120 Hour Rainfall Aggregate', \n",
    "#             'Springfield Plateau Aquifer Depth to Water Level (ft)', 'Ozark Aquifer Depth to Water Level (ft)']\n",
    "features = ['SWTP Total Influent Flow', 'Fire Rainfall (in)', 'Bingham Rainfall (in)', 'SWTP Plant 1 Gravity Flow']\n",
    "\n",
    "df = pd.read_csv(\"Train and Test Data.csv\", usecols=features)\n",
    "data = df.values\n",
    "n_hours_out = 24\n",
    "transformedDf = series_to_supervised(data, n_hours_out, 1)\n",
    "\n",
    "# columns we want\n",
    "cols = np.array(transformedDf.columns)\n",
    "# desiredCols = cols[:10*24]\t# all previous t-24 to t-1 data to predict t\n",
    "desiredCols = cols[:10]\t\t# t-24 to predict t\t\n",
    "desiredCols = np.append(desiredCols, cols[-10])\n",
    "removeCols = np.array([x for x in cols if x not in desiredCols])\n",
    "transformedDf.drop(columns=removeCols, inplace=True)\n",
    "\n",
    "scaler = MinMaxScaler()\n",
    "data = transformedDf.values\n",
    "data = scaler.fit_transform(data)\n",
    "bias = np.ones((data.shape[0], 1))\t\t# adding in a bias\n",
    "data = np.hstack((bias, data))\n",
    "\n",
    "y = np.array([[x] for x in data[:, -1]])\n",
    "X = np.delete(data, -1, axis=1)"
   ]
  },
  {
   "cell_type": "code",
   "execution_count": 50,
   "metadata": {},
   "outputs": [
    {
     "name": "stdout",
     "output_type": "stream",
     "text": [
      "(26607, 11)\n",
      "(26607, 1)\n",
      "(8870, 11)\n",
      "(8870, 1)\n"
     ]
    }
   ],
   "source": [
    "numTrain = int(y.shape[0] * 0.75)\n",
    "X_train, X_test = X[:numTrain], X[numTrain:]\n",
    "y_train, y_test = y[:numTrain], y[numTrain:]\n",
    "print(X_train.shape)\n",
    "print(y_train.shape)\n",
    "print(X_test.shape)\n",
    "print(y_test.shape)"
   ]
  }
 ],
 "metadata": {
  "interpreter": {
   "hash": "18d1565e3dd2a1a1180dd629712b39ff168054eb513fda549cd851c01d6423bb"
  },
  "kernelspec": {
   "display_name": "Python 3.8.13 ('ML')",
   "language": "python",
   "name": "python3"
  },
  "language_info": {
   "codemirror_mode": {
    "name": "ipython",
    "version": 3
   },
   "file_extension": ".py",
   "mimetype": "text/x-python",
   "name": "python",
   "nbconvert_exporter": "python",
   "pygments_lexer": "ipython3",
   "version": "3.8.13"
  },
  "orig_nbformat": 4
 },
 "nbformat": 4,
 "nbformat_minor": 2
}
